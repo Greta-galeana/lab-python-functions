{
 "cells": [
  {
   "cell_type": "markdown",
   "id": "25d7736c-ba17-4aff-b6bb-66eba20fbf4e",
   "metadata": {},
   "source": [
    "# Lab | Functions"
   ]
  },
  {
   "cell_type": "markdown",
   "id": "0c581062-8967-4d93-b06e-62833222f930",
   "metadata": {
    "tags": []
   },
   "source": [
    "## Exercise: Managing Customer Orders with Functions\n",
    "\n",
    "In the previous exercise, you improved the code for managing customer orders by using loops and flow control. Now, let's take it a step further and refactor the code by introducing functions.\n",
    "\n",
    "Follow the steps below to complete the exercise:\n",
    "\n",
    "1. Define a function named `initialize_inventory` that takes `products` as a parameter. Inside the function, implement the code for initializing the inventory dictionary using a loop and user input.\n",
    "\n",
    "2. Define a function named `get_customer_orders` that takes no parameters. Inside the function, implement the code for prompting the user to enter the product names using a loop. The function should return the `customer_orders` set.\n",
    "\n",
    "3. Define a function named `update_inventory` that takes `customer_orders` and `inventory` as parameters. Inside the function, implement the code for updating the inventory dictionary based on the customer orders.\n",
    "\n",
    "4. Define a function named `calculate_order_statistics` that takes `customer_orders` and `products` as parameters. Inside the function, implement the code for calculating the order statistics (total products ordered, and percentage of unique products ordered). The function should return these values.\n",
    "\n",
    "5. Define a function named `print_order_statistics` that takes `order_statistics` as a parameter. Inside the function, implement the code for printing the order statistics.\n",
    "\n",
    "6. Define a function named `print_updated_inventory` that takes `inventory` as a parameter. Inside the function, implement the code for printing the updated inventory.\n",
    "\n",
    "7. Call the functions in the appropriate sequence to execute the program and manage customer orders.\n",
    "\n",
    "Hints for functions:\n",
    "\n",
    "- Consider the input parameters required for each function and their return values.\n",
    "- Utilize function parameters and return values to transfer data between functions.\n",
    "- Test your functions individually to ensure they work correctly.\n",
    "\n",
    "\n"
   ]
  },
  {
   "cell_type": "code",
   "execution_count": 27,
   "id": "7c0bd144",
   "metadata": {},
   "outputs": [],
   "source": [
    "#Define a list called `products\n",
    "\n",
    "products = [\"t-shirt\", \"mug\", \"hat\", \"book\", \"keychain\"]"
   ]
  },
  {
   "cell_type": "code",
   "execution_count": 28,
   "id": "1befa263",
   "metadata": {},
   "outputs": [],
   "source": [
    "#empty dictionary called `inventory\n",
    "inventory = {}"
   ]
  },
  {
   "cell_type": "code",
   "execution_count": 29,
   "id": "6742144f",
   "metadata": {},
   "outputs": [
    {
     "name": "stdout",
     "output_type": "stream",
     "text": [
      "{'t-shirt': 1, 'mug': 2, 'hat': 3, 'book': 4, 'keychain': 5}\n"
     ]
    }
   ],
   "source": [
    "#3. Ask the user to input the quantity of each product available in the inventory. Use the product names from the `products`\n",
    "#  list as keys in the `inventory` dictionary and assign the respective quantities as values.\n",
    "for product in products:\n",
    "    quantity = int(input(f'Enter the quantity for {product}: '))\n",
    "    inventory[product] = (quantity)\n",
    "print (inventory)"
   ]
  },
  {
   "cell_type": "code",
   "execution_count": 30,
   "id": "417bd6d2",
   "metadata": {},
   "outputs": [],
   "source": [
    "#4.Create an empty set called `customer_orders`.\n",
    "\n",
    "customer_orders = set()"
   ]
  },
  {
   "cell_type": "code",
   "execution_count": 31,
   "id": "033925ea",
   "metadata": {},
   "outputs": [
    {
     "name": "stdout",
     "output_type": "stream",
     "text": [
      "hat has been added to your order.\n",
      "book has been added to your order.\n",
      "mug has been added to your order.\n",
      "customer_orders: {'mug', 'book', 'hat'}\n"
     ]
    }
   ],
   "source": [
    "while len(customer_orders) < 3:\n",
    "    product_name = input('Enter the name of a product you want to order')\n",
    "    if product_name in products:\n",
    "        customer_orders.add(product_name)\n",
    "        print(f'{product_name} has been added to your order.')\n",
    "    else:\n",
    "        print(f'{product_name} is not a valid product. Please choose from {products}.')\n",
    "\n",
    "print(\"customer_orders:\", customer_orders)"
   ]
  },
  {
   "cell_type": "code",
   "execution_count": 32,
   "id": "5c57196d",
   "metadata": {},
   "outputs": [],
   "source": [
    "#3    c. Ask the user if they want to add another product (yes/no).\n",
    "\n",
    "other_product = input(\"Do you want another product yes/no\")\n",
    "\n",
    "while True:\n",
    "\n",
    "    while True:\n",
    "\n",
    "        order = input(f\"Enter the name of product to order({', '.join(products)}): \").lower()\n",
    "\n",
    "        if order in products:\n",
    "\n",
    "            customer_orders.add(order)\n",
    "\n",
    "            break\n",
    "\n",
    "        else:\n",
    "\n",
    "            print(\"Invalid product name. Please try again.\")\n",
    "\n",
    "    while True:\n",
    "\n",
    "        control = input(\"Do you want to add another product? (yes/no): \").lower()\n",
    "\n",
    "        if control in [\"yes\", \"no\"]:\n",
    "\n",
    "            break\n",
    "\n",
    "        else:\n",
    "\n",
    "            print(\"Invalid input. Please enter 'yes' or 'no'.\")\n",
    "\n",
    "    if control == \"no\":\n",
    "\n",
    "        break"
   ]
  },
  {
   "cell_type": "code",
   "execution_count": 45,
   "id": "81220cbb",
   "metadata": {},
   "outputs": [
    {
     "name": "stdout",
     "output_type": "stream",
     "text": [
      "{'t-shirt': 'mug', 'mug': '2', 'hat': 'hat', 'book': 'book', 'keychain': 'keychain'}\n"
     ]
    }
   ],
   "source": [
    "#1. Define a function named `initialize_inventory` that takes `products` as a parameter. \n",
    "products = [\"t-shirt\", \"mug\", \"hat\", \"book\", \"keychain\"]\n",
    "inventory = initialize_inventory(products)\n",
    "print(inventory)\n",
    "def initialize_inventory(products):\n",
    "    inventory = {}\n",
    "\n",
    "    for product in products:\n",
    "        quantity = (input(f'Insert quantity for {product}: '))\n",
    "        inventory[product] = quantity\n",
    "\n",
    "    return inventory\n",
    "    "
   ]
  },
  {
   "cell_type": "code",
   "execution_count": 58,
   "id": "3ff80fb7",
   "metadata": {},
   "outputs": [],
   "source": [
    "#2. Define a function named `get_customer_orders` that takes no parameters. \n",
    "# Inside the function, implement the code for prompting the user to enter the product names using a loop. \n",
    "# The function should return the `customer_orders` set.\n",
    "\n",
    "def get_customer_orders():\n",
    "    while len(customer_orders) < 3:\n",
    "        product_name = input('Enter the name of a product you want to order')\n",
    "    if product_name in products:\n",
    "        customer_orders.add(product_name)\n",
    "        print(f'{product_name} has been added to your order.')\n",
    "    else:\n",
    "        print(f'{product_name} is not a valid product. Please choose from {products}.')\n",
    "    return customer_orders\n",
    "\n",
    "customer_orders = set()\n",
    "get_customer_orders()"
   ]
  },
  {
   "cell_type": "code",
   "execution_count": 35,
   "id": "feccec29",
   "metadata": {},
   "outputs": [],
   "source": [
    "#3. Define a function named `update_inventory` that takes `customer_orders` and `inventory` as parameters. \n",
    "#Inside the function, implement the code for updating the inventory dictionary based on the customer orders.\n",
    "\n",
    "def update_inventory (customer_orders, inventory):\n",
    "    inventory = {}\n",
    "    product_name = (input(f'insert a product_name'))\n",
    "    return inventory"
   ]
  },
  {
   "cell_type": "code",
   "execution_count": 44,
   "id": "52934e46",
   "metadata": {},
   "outputs": [
    {
     "ename": "IndentationError",
     "evalue": "unexpected indent (3634179245.py, line 19)",
     "output_type": "error",
     "traceback": [
      "\u001b[1;36m  Cell \u001b[1;32mIn[44], line 19\u001b[1;36m\u001b[0m\n\u001b[1;33m    return(order_status)\u001b[0m\n\u001b[1;37m    ^\u001b[0m\n\u001b[1;31mIndentationError\u001b[0m\u001b[1;31m:\u001b[0m unexpected indent\n"
     ]
    }
   ],
   "source": [
    "#4. Define a function named `calculate_order_statistics` that takes `customer_orders` and `products` as parameters.\n",
    "#Inside the function, implement the code for calculating the order statistics\n",
    "#  (total products ordered, and percentage of unique products ordered). \n",
    "#The function should return these values.\n",
    "\n",
    "def calculate_order_statistics(customer_orders,products):\n",
    "    total_products_ordered = sum(get_customer_orders)\n",
    "\n",
    "    # Calculate the Total Products Ordered\n",
    "total_products_ordered = len(customer_orders)\n",
    "\n",
    "# Calculate the Percentage of Products Ordered\n",
    "total_available_products = len(products)\n",
    "percentage_ordered = (total_products_ordered / total_available_products) * 100\n",
    "\n",
    "# Store the statistics in a tuple\n",
    "order_status = (total_products_ordered, percentage_ordered)\n",
    "\n",
    "    return(order_status)\n",
    "    "
   ]
  }
 ],
 "metadata": {
  "kernelspec": {
   "display_name": "Python 3 (ipykernel)",
   "language": "python",
   "name": "python3"
  },
  "language_info": {
   "codemirror_mode": {
    "name": "ipython",
    "version": 3
   },
   "file_extension": ".py",
   "mimetype": "text/x-python",
   "name": "python",
   "nbconvert_exporter": "python",
   "pygments_lexer": "ipython3",
   "version": "3.11.9"
  }
 },
 "nbformat": 4,
 "nbformat_minor": 5
}
